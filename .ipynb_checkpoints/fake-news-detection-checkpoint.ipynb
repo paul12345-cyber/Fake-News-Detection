{
 "cells": [
  {
   "cell_type": "code",
   "execution_count": 54,
   "id": "54c36fed",
   "metadata": {},
   "outputs": [],
   "source": [
    "# data analysis and preprocessing \n",
    "import pandas as pd\n",
    "import numpy as np\n",
    "from nltk.corpus import stopwords\n",
    "from nltk.tokenize import word_tokenize\n",
    "from nltk.stem.porter import PorterStemmer\n",
    "from sklearn.feature_extraction.text import CountVectorizer,TfidfTransformer\n",
    "import re\n",
    "from sklearn.pipeline import Pipeline\n",
    "from sklearn.model_selection import GridSearchCV\n",
    "from sklearn import svm"
   ]
  },
  {
   "cell_type": "code",
   "execution_count": 6,
   "id": "cae9a7b3",
   "metadata": {},
   "outputs": [
    {
     "data": {
      "text/html": [
       "<div>\n",
       "<style scoped>\n",
       "    .dataframe tbody tr th:only-of-type {\n",
       "        vertical-align: middle;\n",
       "    }\n",
       "\n",
       "    .dataframe tbody tr th {\n",
       "        vertical-align: top;\n",
       "    }\n",
       "\n",
       "    .dataframe thead th {\n",
       "        text-align: right;\n",
       "    }\n",
       "</style>\n",
       "<table border=\"1\" class=\"dataframe\">\n",
       "  <thead>\n",
       "    <tr style=\"text-align: right;\">\n",
       "      <th></th>\n",
       "      <th>id</th>\n",
       "      <th>title</th>\n",
       "      <th>author</th>\n",
       "      <th>text</th>\n",
       "      <th>label</th>\n",
       "    </tr>\n",
       "  </thead>\n",
       "  <tbody>\n",
       "    <tr>\n",
       "      <th>0</th>\n",
       "      <td>0</td>\n",
       "      <td>House Dem Aide: We Didn’t Even See Comey’s Let...</td>\n",
       "      <td>Darrell Lucus</td>\n",
       "      <td>House Dem Aide: We Didn’t Even See Comey’s Let...</td>\n",
       "      <td>1</td>\n",
       "    </tr>\n",
       "    <tr>\n",
       "      <th>1</th>\n",
       "      <td>1</td>\n",
       "      <td>FLYNN: Hillary Clinton, Big Woman on Campus - ...</td>\n",
       "      <td>Daniel J. Flynn</td>\n",
       "      <td>Ever get the feeling your life circles the rou...</td>\n",
       "      <td>0</td>\n",
       "    </tr>\n",
       "    <tr>\n",
       "      <th>2</th>\n",
       "      <td>2</td>\n",
       "      <td>Why the Truth Might Get You Fired</td>\n",
       "      <td>Consortiumnews.com</td>\n",
       "      <td>Why the Truth Might Get You Fired October 29, ...</td>\n",
       "      <td>1</td>\n",
       "    </tr>\n",
       "    <tr>\n",
       "      <th>3</th>\n",
       "      <td>3</td>\n",
       "      <td>15 Civilians Killed In Single US Airstrike Hav...</td>\n",
       "      <td>Jessica Purkiss</td>\n",
       "      <td>Videos 15 Civilians Killed In Single US Airstr...</td>\n",
       "      <td>1</td>\n",
       "    </tr>\n",
       "    <tr>\n",
       "      <th>4</th>\n",
       "      <td>4</td>\n",
       "      <td>Iranian woman jailed for fictional unpublished...</td>\n",
       "      <td>Howard Portnoy</td>\n",
       "      <td>Print \\nAn Iranian woman has been sentenced to...</td>\n",
       "      <td>1</td>\n",
       "    </tr>\n",
       "  </tbody>\n",
       "</table>\n",
       "</div>"
      ],
      "text/plain": [
       "   id                                              title              author  \\\n",
       "0   0  House Dem Aide: We Didn’t Even See Comey’s Let...       Darrell Lucus   \n",
       "1   1  FLYNN: Hillary Clinton, Big Woman on Campus - ...     Daniel J. Flynn   \n",
       "2   2                  Why the Truth Might Get You Fired  Consortiumnews.com   \n",
       "3   3  15 Civilians Killed In Single US Airstrike Hav...     Jessica Purkiss   \n",
       "4   4  Iranian woman jailed for fictional unpublished...      Howard Portnoy   \n",
       "\n",
       "                                                text  label  \n",
       "0  House Dem Aide: We Didn’t Even See Comey’s Let...      1  \n",
       "1  Ever get the feeling your life circles the rou...      0  \n",
       "2  Why the Truth Might Get You Fired October 29, ...      1  \n",
       "3  Videos 15 Civilians Killed In Single US Airstr...      1  \n",
       "4  Print \\nAn Iranian woman has been sentenced to...      1  "
      ]
     },
     "execution_count": 6,
     "metadata": {},
     "output_type": "execute_result"
    }
   ],
   "source": [
    "news=pd.read_csv('News.csv')\n",
    "news.head()"
   ]
  },
  {
   "cell_type": "code",
   "execution_count": 7,
   "id": "d4f012f5",
   "metadata": {},
   "outputs": [
    {
     "data": {
      "text/plain": [
       "(20800, 5)"
      ]
     },
     "execution_count": 7,
     "metadata": {},
     "output_type": "execute_result"
    }
   ],
   "source": [
    "news.shape"
   ]
  },
  {
   "cell_type": "markdown",
   "id": "42b770d1",
   "metadata": {},
   "source": [
    "### Most active Authors with more than 100 news articles"
   ]
  },
  {
   "cell_type": "code",
   "execution_count": 8,
   "id": "d9502817",
   "metadata": {},
   "outputs": [
    {
     "data": {
      "text/plain": [
       "Pam Key                243\n",
       "admin                  193\n",
       "Jerome Hudson          166\n",
       "Charlie Spiering       141\n",
       "John Hayward           140\n",
       "Katherine Rodriguez    124\n",
       "Warner Todd Huston     122\n",
       "Ian Hanchett           119\n",
       "Breitbart News         118\n",
       "Daniel Nussbaum        112\n",
       "AWR Hawkins            107\n",
       "Jeff Poor              107\n",
       "Joel B. Pollak         106\n",
       "Trent Baker            102\n",
       "Name: author, dtype: int64"
      ]
     },
     "execution_count": 8,
     "metadata": {},
     "output_type": "execute_result"
    }
   ],
   "source": [
    "auth=news['author'].value_counts()\n",
    "auth=auth[auth>100]\n",
    "auth"
   ]
  },
  {
   "cell_type": "markdown",
   "id": "2cdb20be",
   "metadata": {},
   "source": [
    "### Most active authors with coresponding number of fake/authentic news articles\n",
    "### (0-fake, 1-authentic)"
   ]
  },
  {
   "cell_type": "code",
   "execution_count": 9,
   "id": "7dcb3bbb",
   "metadata": {},
   "outputs": [
    {
     "data": {
      "text/plain": [
       "author               label\n",
       "Pam Key              0        242\n",
       "                     1          1\n",
       "admin                1        193\n",
       "Jerome Hudson        0        166\n",
       "Charlie Spiering     0        141\n",
       "John Hayward         0        140\n",
       "Katherine Rodriguez  0        124\n",
       "Warner Todd Huston   0        122\n",
       "Ian Hanchett         0        119\n",
       "Breitbart News       0        118\n",
       "Daniel Nussbaum      0        112\n",
       "AWR Hawkins          0        107\n",
       "Jeff Poor            0        107\n",
       "Joel B. Pollak       0        106\n",
       "Trent Baker          0        102\n",
       "Name: label, dtype: int64"
      ]
     },
     "execution_count": 9,
     "metadata": {},
     "output_type": "execute_result"
    }
   ],
   "source": [
    "auth_count=news.groupby(['author','label'])['label'].count()\n",
    "\n",
    "auth=list(auth.index)    # get list of top active authors with over 100 news articles\n",
    "auth_count[auth]"
   ]
  },
  {
   "cell_type": "markdown",
   "id": "7e5a9267",
   "metadata": {},
   "source": [
    "### From the above output, except author 'Admin', all other most active authors post 'fake news\n",
    "## Remove missing values and reset index"
   ]
  },
  {
   "cell_type": "code",
   "execution_count": 10,
   "id": "a49418c6",
   "metadata": {},
   "outputs": [
    {
     "data": {
      "text/plain": [
       "(18285, 5)"
      ]
     },
     "execution_count": 10,
     "metadata": {},
     "output_type": "execute_result"
    }
   ],
   "source": [
    "news=news.dropna()\n",
    "news.reset_index(drop=True, inplace=True)\n",
    "news.shape"
   ]
  },
  {
   "cell_type": "code",
   "execution_count": 18,
   "id": "7645bcdc",
   "metadata": {},
   "outputs": [
    {
     "data": {
      "text/html": [
       "<div>\n",
       "<style scoped>\n",
       "    .dataframe tbody tr th:only-of-type {\n",
       "        vertical-align: middle;\n",
       "    }\n",
       "\n",
       "    .dataframe tbody tr th {\n",
       "        vertical-align: top;\n",
       "    }\n",
       "\n",
       "    .dataframe thead th {\n",
       "        text-align: right;\n",
       "    }\n",
       "</style>\n",
       "<table border=\"1\" class=\"dataframe\">\n",
       "  <thead>\n",
       "    <tr style=\"text-align: right;\">\n",
       "      <th></th>\n",
       "      <th>id</th>\n",
       "      <th>title</th>\n",
       "      <th>author</th>\n",
       "      <th>text</th>\n",
       "      <th>label</th>\n",
       "    </tr>\n",
       "  </thead>\n",
       "  <tbody>\n",
       "    <tr>\n",
       "      <th>0</th>\n",
       "      <td>0</td>\n",
       "      <td>House Dem Aide: We Didn’t Even See Comey’s Let...</td>\n",
       "      <td>Darrell Lucus</td>\n",
       "      <td>House Dem Aide: We Didn’t Even See Comey’s Let...</td>\n",
       "      <td>1</td>\n",
       "    </tr>\n",
       "    <tr>\n",
       "      <th>1</th>\n",
       "      <td>1</td>\n",
       "      <td>FLYNN: Hillary Clinton, Big Woman on Campus - ...</td>\n",
       "      <td>Daniel J. Flynn</td>\n",
       "      <td>Ever get the feeling your life circles the rou...</td>\n",
       "      <td>0</td>\n",
       "    </tr>\n",
       "    <tr>\n",
       "      <th>2</th>\n",
       "      <td>2</td>\n",
       "      <td>Why the Truth Might Get You Fired</td>\n",
       "      <td>Consortiumnews.com</td>\n",
       "      <td>Why the Truth Might Get You Fired October 29, ...</td>\n",
       "      <td>1</td>\n",
       "    </tr>\n",
       "    <tr>\n",
       "      <th>3</th>\n",
       "      <td>3</td>\n",
       "      <td>15 Civilians Killed In Single US Airstrike Hav...</td>\n",
       "      <td>Jessica Purkiss</td>\n",
       "      <td>Videos 15 Civilians Killed In Single US Airstr...</td>\n",
       "      <td>1</td>\n",
       "    </tr>\n",
       "    <tr>\n",
       "      <th>4</th>\n",
       "      <td>4</td>\n",
       "      <td>Iranian woman jailed for fictional unpublished...</td>\n",
       "      <td>Howard Portnoy</td>\n",
       "      <td>Print \\nAn Iranian woman has been sentenced to...</td>\n",
       "      <td>1</td>\n",
       "    </tr>\n",
       "    <tr>\n",
       "      <th>5</th>\n",
       "      <td>5</td>\n",
       "      <td>Jackie Mason: Hollywood Would Love Trump if He...</td>\n",
       "      <td>Daniel Nussbaum</td>\n",
       "      <td>In these trying times, Jackie Mason is the Voi...</td>\n",
       "      <td>0</td>\n",
       "    </tr>\n",
       "    <tr>\n",
       "      <th>6</th>\n",
       "      <td>7</td>\n",
       "      <td>Benoît Hamon Wins French Socialist Party’s Pre...</td>\n",
       "      <td>Alissa J. Rubin</td>\n",
       "      <td>PARIS  —   France chose an idealistic, traditi...</td>\n",
       "      <td>0</td>\n",
       "    </tr>\n",
       "    <tr>\n",
       "      <th>7</th>\n",
       "      <td>9</td>\n",
       "      <td>A Back-Channel Plan for Ukraine and Russia, Co...</td>\n",
       "      <td>Megan Twohey and Scott Shane</td>\n",
       "      <td>A week before Michael T. Flynn resigned as nat...</td>\n",
       "      <td>0</td>\n",
       "    </tr>\n",
       "    <tr>\n",
       "      <th>8</th>\n",
       "      <td>10</td>\n",
       "      <td>Obama’s Organizing for Action Partners with So...</td>\n",
       "      <td>Aaron Klein</td>\n",
       "      <td>Organizing for Action, the activist group that...</td>\n",
       "      <td>0</td>\n",
       "    </tr>\n",
       "    <tr>\n",
       "      <th>9</th>\n",
       "      <td>11</td>\n",
       "      <td>BBC Comedy Sketch \"Real Housewives of ISIS\" Ca...</td>\n",
       "      <td>Chris Tomlinson</td>\n",
       "      <td>The BBC produced spoof on the “Real Housewives...</td>\n",
       "      <td>0</td>\n",
       "    </tr>\n",
       "    <tr>\n",
       "      <th>10</th>\n",
       "      <td>12</td>\n",
       "      <td>Russian Researchers Discover Secret Nazi Milit...</td>\n",
       "      <td>Amando Flavio</td>\n",
       "      <td>The mystery surrounding The Third Reich and Na...</td>\n",
       "      <td>1</td>\n",
       "    </tr>\n",
       "    <tr>\n",
       "      <th>11</th>\n",
       "      <td>13</td>\n",
       "      <td>US Officials See No Link Between Trump and Russia</td>\n",
       "      <td>Jason Ditz</td>\n",
       "      <td>Clinton Campaign Demands FBI Affirm Trump's Ru...</td>\n",
       "      <td>1</td>\n",
       "    </tr>\n",
       "    <tr>\n",
       "      <th>12</th>\n",
       "      <td>14</td>\n",
       "      <td>Re: Yes, There Are Paid Government Trolls On S...</td>\n",
       "      <td>AnotherAnnie</td>\n",
       "      <td>Yes, There Are Paid Government Trolls On Socia...</td>\n",
       "      <td>1</td>\n",
       "    </tr>\n",
       "    <tr>\n",
       "      <th>13</th>\n",
       "      <td>15</td>\n",
       "      <td>In Major League Soccer, Argentines Find a Home...</td>\n",
       "      <td>Jack Williams</td>\n",
       "      <td>Guillermo Barros Schelotto was not the first A...</td>\n",
       "      <td>0</td>\n",
       "    </tr>\n",
       "    <tr>\n",
       "      <th>14</th>\n",
       "      <td>16</td>\n",
       "      <td>Wells Fargo Chief Abruptly Steps Down - The Ne...</td>\n",
       "      <td>Michael Corkery and Stacy Cowley</td>\n",
       "      <td>The scandal engulfing Wells Fargo toppled its ...</td>\n",
       "      <td>0</td>\n",
       "    </tr>\n",
       "  </tbody>\n",
       "</table>\n",
       "</div>"
      ],
      "text/plain": [
       "    id                                              title  \\\n",
       "0    0  House Dem Aide: We Didn’t Even See Comey’s Let...   \n",
       "1    1  FLYNN: Hillary Clinton, Big Woman on Campus - ...   \n",
       "2    2                  Why the Truth Might Get You Fired   \n",
       "3    3  15 Civilians Killed In Single US Airstrike Hav...   \n",
       "4    4  Iranian woman jailed for fictional unpublished...   \n",
       "5    5  Jackie Mason: Hollywood Would Love Trump if He...   \n",
       "6    7  Benoît Hamon Wins French Socialist Party’s Pre...   \n",
       "7    9  A Back-Channel Plan for Ukraine and Russia, Co...   \n",
       "8   10  Obama’s Organizing for Action Partners with So...   \n",
       "9   11  BBC Comedy Sketch \"Real Housewives of ISIS\" Ca...   \n",
       "10  12  Russian Researchers Discover Secret Nazi Milit...   \n",
       "11  13  US Officials See No Link Between Trump and Russia   \n",
       "12  14  Re: Yes, There Are Paid Government Trolls On S...   \n",
       "13  15  In Major League Soccer, Argentines Find a Home...   \n",
       "14  16  Wells Fargo Chief Abruptly Steps Down - The Ne...   \n",
       "\n",
       "                              author  \\\n",
       "0                      Darrell Lucus   \n",
       "1                    Daniel J. Flynn   \n",
       "2                 Consortiumnews.com   \n",
       "3                    Jessica Purkiss   \n",
       "4                     Howard Portnoy   \n",
       "5                    Daniel Nussbaum   \n",
       "6                    Alissa J. Rubin   \n",
       "7       Megan Twohey and Scott Shane   \n",
       "8                        Aaron Klein   \n",
       "9                    Chris Tomlinson   \n",
       "10                     Amando Flavio   \n",
       "11                        Jason Ditz   \n",
       "12                      AnotherAnnie   \n",
       "13                     Jack Williams   \n",
       "14  Michael Corkery and Stacy Cowley   \n",
       "\n",
       "                                                 text  label  \n",
       "0   House Dem Aide: We Didn’t Even See Comey’s Let...      1  \n",
       "1   Ever get the feeling your life circles the rou...      0  \n",
       "2   Why the Truth Might Get You Fired October 29, ...      1  \n",
       "3   Videos 15 Civilians Killed In Single US Airstr...      1  \n",
       "4   Print \\nAn Iranian woman has been sentenced to...      1  \n",
       "5   In these trying times, Jackie Mason is the Voi...      0  \n",
       "6   PARIS  —   France chose an idealistic, traditi...      0  \n",
       "7   A week before Michael T. Flynn resigned as nat...      0  \n",
       "8   Organizing for Action, the activist group that...      0  \n",
       "9   The BBC produced spoof on the “Real Housewives...      0  \n",
       "10  The mystery surrounding The Third Reich and Na...      1  \n",
       "11  Clinton Campaign Demands FBI Affirm Trump's Ru...      1  \n",
       "12  Yes, There Are Paid Government Trolls On Socia...      1  \n",
       "13  Guillermo Barros Schelotto was not the first A...      0  \n",
       "14  The scandal engulfing Wells Fargo toppled its ...      0  "
      ]
     },
     "execution_count": 18,
     "metadata": {},
     "output_type": "execute_result"
    }
   ],
   "source": [
    "news[0:15]"
   ]
  },
  {
   "cell_type": "markdown",
   "id": "c99190ec",
   "metadata": {},
   "source": [
    "### Data preprocessing: Stemming, removing stopwords and non-alphanumeric characters"
   ]
  },
  {
   "cell_type": "code",
   "execution_count": 12,
   "id": "5288d184",
   "metadata": {},
   "outputs": [],
   "source": [
    "ps=PorterStemmer()\n",
    "tit=[]\n",
    "for n in range(0,len(news)):\n",
    "    msg=re.sub('[^a-zA-Z0-9]',' ',news['title'][n])  # remove non-alphanumeric characters.\n",
    "    msg=msg.lower()\n",
    "    msg=word_tokenize(msg)          # split text message into a list\n",
    "    msg=[ps.stem(w) for w in msg if not w in stopwords.words('english')]\n",
    "    msg = ' '.join(msg)    # Join list back into sentence\n",
    "    tit.append(msg)"
   ]
  },
  {
   "cell_type": "code",
   "execution_count": 22,
   "id": "c0483ffa",
   "metadata": {},
   "outputs": [
    {
     "data": {
      "text/plain": [
       "['hous dem aid even see comey letter jason chaffetz tweet',\n",
       " 'flynn hillari clinton big woman campu breitbart',\n",
       " 'truth might get fire',\n",
       " '15 civilian kill singl us airstrik identifi',\n",
       " 'iranian woman jail fiction unpublish stori woman stone death adulteri']"
      ]
     },
     "execution_count": 22,
     "metadata": {},
     "output_type": "execute_result"
    }
   ],
   "source": [
    "tit[0:5]  # First 5 titles"
   ]
  },
  {
   "cell_type": "markdown",
   "id": "2d05e236",
   "metadata": {},
   "source": [
    "### Split news dataset into training and testing data"
   ]
  },
  {
   "cell_type": "code",
   "execution_count": 23,
   "id": "22a60707",
   "metadata": {},
   "outputs": [
    {
     "name": "stdout",
     "output_type": "stream",
     "text": [
      "length of x_train: 14628 and y_train:14628 \n"
     ]
    }
   ],
   "source": [
    "# Split dataset into 80% for training and 20% testing \n",
    "from sklearn.model_selection import train_test_split \n",
    "\n",
    "Y=news.iloc[:,-1]\n",
    "x_train, x_test, y_train, y_test = train_test_split(tit,Y, test_size=0.2, random_state=50)\n",
    "print('length of x_train: %d and y_train:%d ' %(len(x_train),len(y_train)))"
   ]
  },
  {
   "cell_type": "markdown",
   "id": "b5a5052b",
   "metadata": {},
   "source": [
    "### Apipeline for Vectorizing dataset using TF-IDF and instantiating Support Vector Machine classifier"
   ]
  },
  {
   "cell_type": "code",
   "execution_count": 55,
   "id": "9f918484",
   "metadata": {},
   "outputs": [],
   "source": [
    "svm_pipe = Pipeline([('vect', CountVectorizer(max_features=5000)),\n",
    "                   ('tfidf', TfidfTransformer()),\n",
    "            ('classifier', svm.SVC(random_state=42))]) "
   ]
  },
  {
   "cell_type": "code",
   "execution_count": 68,
   "id": "a6908eca",
   "metadata": {},
   "outputs": [
    {
     "name": "stdout",
     "output_type": "stream",
     "text": [
      "{'classifier__kernel': ['linear', 'rbf'], 'classifier__C': [9, 10]}\n"
     ]
    }
   ],
   "source": [
    "C= [9, 10]\n",
    "kernel=['linear','rbf']\n",
    "\n",
    "# Create the param grid\n",
    "svm_param = {'classifier__kernel': kernel,\n",
    "               'classifier__C': C}\n",
    "print(svm_param)"
   ]
  },
  {
   "cell_type": "code",
   "execution_count": 60,
   "id": "391718fe",
   "metadata": {},
   "outputs": [],
   "source": [
    "svm_grid = GridSearchCV(estimator = svm_pipe, param_grid = svm_param, cv = 10, verbose=2, n_jobs = -1)"
   ]
  },
  {
   "cell_type": "code",
   "execution_count": 61,
   "id": "f88aa464",
   "metadata": {},
   "outputs": [
    {
     "name": "stdout",
     "output_type": "stream",
     "text": [
      "Fitting 10 folds for each of 4 candidates, totalling 40 fits\n"
     ]
    },
    {
     "data": {
      "text/plain": [
       "GridSearchCV(cv=10,\n",
       "             estimator=Pipeline(steps=[('vect',\n",
       "                                        CountVectorizer(max_features=5000)),\n",
       "                                       ('tfidf', TfidfTransformer()),\n",
       "                                       ('classifier', SVC(random_state=42))]),\n",
       "             n_jobs=-1,\n",
       "             param_grid={'classifier__C': [9, 10],\n",
       "                         'classifier__kernel': ['linear', 'rbf']},\n",
       "             verbose=2)"
      ]
     },
     "execution_count": 61,
     "metadata": {},
     "output_type": "execute_result"
    }
   ],
   "source": [
    "svm_grid.fit(x_train, y_train)"
   ]
  },
  {
   "cell_type": "code",
   "execution_count": 62,
   "id": "0f38ec44",
   "metadata": {},
   "outputs": [
    {
     "data": {
      "text/plain": [
       "0.9327317473338802"
      ]
     },
     "execution_count": 62,
     "metadata": {},
     "output_type": "execute_result"
    }
   ],
   "source": [
    "from sklearn.metrics import accuracy_score\n",
    "y_pred = svm_grid.predict(x_test)\n",
    "accuracy_score(y_test, y_pred)"
   ]
  },
  {
   "cell_type": "code",
   "execution_count": 63,
   "id": "4647edd2",
   "metadata": {},
   "outputs": [],
   "source": [
    "from pickle import dump\n",
    "fl=open('svm_classifier_mdl.pkl','wb')\n",
    "dump(svm_grid,fl)"
   ]
  },
  {
   "cell_type": "code",
   "execution_count": 66,
   "id": "7d95b55c",
   "metadata": {},
   "outputs": [],
   "source": [
    "from pickle import load\n",
    "mdle=load(open('svm_classifier_mdl.pkl','rb'))\n",
    "pred=mdle.predict(['Democrat Gutierrez Blames Chicagoâ€™s Gun Violence on NRA - Breitbart'])"
   ]
  },
  {
   "cell_type": "code",
   "execution_count": 67,
   "id": "63a0f96b",
   "metadata": {},
   "outputs": [
    {
     "data": {
      "text/plain": [
       "array([0], dtype=int64)"
      ]
     },
     "execution_count": 67,
     "metadata": {},
     "output_type": "execute_result"
    }
   ],
   "source": [
    "pred"
   ]
  },
  {
   "cell_type": "code",
   "execution_count": null,
   "id": "47a5acf5",
   "metadata": {},
   "outputs": [],
   "source": []
  }
 ],
 "metadata": {
  "kernelspec": {
   "display_name": "Python 3 (ipykernel)",
   "language": "python",
   "name": "python3"
  },
  "language_info": {
   "codemirror_mode": {
    "name": "ipython",
    "version": 3
   },
   "file_extension": ".py",
   "mimetype": "text/x-python",
   "name": "python",
   "nbconvert_exporter": "python",
   "pygments_lexer": "ipython3",
   "version": "3.7.11"
  }
 },
 "nbformat": 4,
 "nbformat_minor": 5
}

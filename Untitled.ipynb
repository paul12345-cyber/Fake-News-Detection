{
 "cells": [
  {
   "cell_type": "code",
   "execution_count": 4,
   "id": "b448fcbe",
   "metadata": {},
   "outputs": [],
   "source": [
    "# data analysis and preprocessing \n",
    "import pandas as pd\n",
    "import numpy as np\n",
    "from nltk.corpus import stopwords\n",
    "from nltk.tokenize import word_tokenize\n",
    "from nltk.stem.porter import PorterStemmer\n",
    "from sklearn.feature_extraction.text import CountVectorizer,TfidfTransformer\n",
    "import re"
   ]
  },
  {
   "cell_type": "code",
   "execution_count": 7,
   "id": "16a05d7d",
   "metadata": {},
   "outputs": [
    {
     "data": {
      "text/html": [
       "<div>\n",
       "<style scoped>\n",
       "    .dataframe tbody tr th:only-of-type {\n",
       "        vertical-align: middle;\n",
       "    }\n",
       "\n",
       "    .dataframe tbody tr th {\n",
       "        vertical-align: top;\n",
       "    }\n",
       "\n",
       "    .dataframe thead th {\n",
       "        text-align: right;\n",
       "    }\n",
       "</style>\n",
       "<table border=\"1\" class=\"dataframe\">\n",
       "  <thead>\n",
       "    <tr style=\"text-align: right;\">\n",
       "      <th></th>\n",
       "      <th>id</th>\n",
       "      <th>title</th>\n",
       "      <th>author</th>\n",
       "      <th>text</th>\n",
       "      <th>label</th>\n",
       "    </tr>\n",
       "  </thead>\n",
       "  <tbody>\n",
       "    <tr>\n",
       "      <th>0</th>\n",
       "      <td>0</td>\n",
       "      <td>House Dem Aide: We Didn’t Even See Comey’s Let...</td>\n",
       "      <td>Darrell Lucus</td>\n",
       "      <td>House Dem Aide: We Didn’t Even See Comey’s Let...</td>\n",
       "      <td>1</td>\n",
       "    </tr>\n",
       "    <tr>\n",
       "      <th>1</th>\n",
       "      <td>1</td>\n",
       "      <td>FLYNN: Hillary Clinton, Big Woman on Campus - ...</td>\n",
       "      <td>Daniel J. Flynn</td>\n",
       "      <td>Ever get the feeling your life circles the rou...</td>\n",
       "      <td>0</td>\n",
       "    </tr>\n",
       "    <tr>\n",
       "      <th>2</th>\n",
       "      <td>2</td>\n",
       "      <td>Why the Truth Might Get You Fired</td>\n",
       "      <td>Consortiumnews.com</td>\n",
       "      <td>Why the Truth Might Get You Fired October 29, ...</td>\n",
       "      <td>1</td>\n",
       "    </tr>\n",
       "    <tr>\n",
       "      <th>3</th>\n",
       "      <td>3</td>\n",
       "      <td>15 Civilians Killed In Single US Airstrike Hav...</td>\n",
       "      <td>Jessica Purkiss</td>\n",
       "      <td>Videos 15 Civilians Killed In Single US Airstr...</td>\n",
       "      <td>1</td>\n",
       "    </tr>\n",
       "    <tr>\n",
       "      <th>4</th>\n",
       "      <td>4</td>\n",
       "      <td>Iranian woman jailed for fictional unpublished...</td>\n",
       "      <td>Howard Portnoy</td>\n",
       "      <td>Print \\nAn Iranian woman has been sentenced to...</td>\n",
       "      <td>1</td>\n",
       "    </tr>\n",
       "  </tbody>\n",
       "</table>\n",
       "</div>"
      ],
      "text/plain": [
       "   id                                              title              author  \\\n",
       "0   0  House Dem Aide: We Didn’t Even See Comey’s Let...       Darrell Lucus   \n",
       "1   1  FLYNN: Hillary Clinton, Big Woman on Campus - ...     Daniel J. Flynn   \n",
       "2   2                  Why the Truth Might Get You Fired  Consortiumnews.com   \n",
       "3   3  15 Civilians Killed In Single US Airstrike Hav...     Jessica Purkiss   \n",
       "4   4  Iranian woman jailed for fictional unpublished...      Howard Portnoy   \n",
       "\n",
       "                                                text  label  \n",
       "0  House Dem Aide: We Didn’t Even See Comey’s Let...      1  \n",
       "1  Ever get the feeling your life circles the rou...      0  \n",
       "2  Why the Truth Might Get You Fired October 29, ...      1  \n",
       "3  Videos 15 Civilians Killed In Single US Airstr...      1  \n",
       "4  Print \\nAn Iranian woman has been sentenced to...      1  "
      ]
     },
     "execution_count": 7,
     "metadata": {},
     "output_type": "execute_result"
    }
   ],
   "source": [
    "news=pd.read_csv('News.csv')\n",
    "news.head()"
   ]
  },
  {
   "cell_type": "code",
   "execution_count": 9,
   "id": "ff4e89ce",
   "metadata": {},
   "outputs": [
    {
     "data": {
      "text/plain": [
       "(20800, 5)"
      ]
     },
     "execution_count": 9,
     "metadata": {},
     "output_type": "execute_result"
    }
   ],
   "source": [
    "news.shape"
   ]
  },
  {
   "cell_type": "markdown",
   "id": "0ca12162",
   "metadata": {},
   "source": [
    "### Most active Authors with more than 100 news articles"
   ]
  },
  {
   "cell_type": "code",
   "execution_count": 18,
   "id": "da404579",
   "metadata": {},
   "outputs": [
    {
     "data": {
      "text/plain": [
       "Pam Key                243\n",
       "admin                  193\n",
       "Jerome Hudson          166\n",
       "Charlie Spiering       141\n",
       "John Hayward           140\n",
       "Katherine Rodriguez    124\n",
       "Warner Todd Huston     122\n",
       "Ian Hanchett           119\n",
       "Breitbart News         118\n",
       "Daniel Nussbaum        112\n",
       "AWR Hawkins            107\n",
       "Jeff Poor              107\n",
       "Joel B. Pollak         106\n",
       "Trent Baker            102\n",
       "Name: author, dtype: int64"
      ]
     },
     "execution_count": 18,
     "metadata": {},
     "output_type": "execute_result"
    }
   ],
   "source": [
    "auth=news['author'].value_counts()\n",
    "auth=auth[auth>100]\n",
    "auth"
   ]
  },
  {
   "cell_type": "markdown",
   "id": "cc313be8",
   "metadata": {},
   "source": [
    "### Most active authors with coresponding number of fake/authentic news articles\n",
    "### (0-fake, 1-authentic)"
   ]
  },
  {
   "cell_type": "code",
   "execution_count": 22,
   "id": "4f94a6f6",
   "metadata": {},
   "outputs": [
    {
     "data": {
      "text/plain": [
       "author               label\n",
       "Pam Key              0        242\n",
       "                     1          1\n",
       "admin                1        193\n",
       "Jerome Hudson        0        166\n",
       "Charlie Spiering     0        141\n",
       "John Hayward         0        140\n",
       "Katherine Rodriguez  0        124\n",
       "Warner Todd Huston   0        122\n",
       "Ian Hanchett         0        119\n",
       "Breitbart News       0        118\n",
       "Daniel Nussbaum      0        112\n",
       "AWR Hawkins          0        107\n",
       "Jeff Poor            0        107\n",
       "Joel B. Pollak       0        106\n",
       "Trent Baker          0        102\n",
       "Name: label, dtype: int64"
      ]
     },
     "execution_count": 22,
     "metadata": {},
     "output_type": "execute_result"
    }
   ],
   "source": [
    "auth_count=news.groupby(['author','label'])['label'].count()\n",
    "\n",
    "auth=list(auth.index)    # get list of top active authors with over 100 news articles\n",
    "auth_count[auth]"
   ]
  },
  {
   "cell_type": "markdown",
   "id": "a9d2de55",
   "metadata": {},
   "source": [
    "### From the above output, except author 'Admin', all other most active authors post 'fake news'\n",
    "## Remove missing values and reset index"
   ]
  },
  {
   "cell_type": "code",
   "execution_count": null,
   "id": "2b59d168",
   "metadata": {},
   "outputs": [],
   "source": []
  }
 ],
 "metadata": {
  "kernelspec": {
   "display_name": "Python 3 (ipykernel)",
   "language": "python",
   "name": "python3"
  },
  "language_info": {
   "codemirror_mode": {
    "name": "ipython",
    "version": 3
   },
   "file_extension": ".py",
   "mimetype": "text/x-python",
   "name": "python",
   "nbconvert_exporter": "python",
   "pygments_lexer": "ipython3",
   "version": "3.7.11"
  }
 },
 "nbformat": 4,
 "nbformat_minor": 5
}
